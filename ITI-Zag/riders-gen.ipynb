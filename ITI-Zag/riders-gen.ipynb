{
 "cells": [
  {
   "cell_type": "code",
   "execution_count": null,
   "metadata": {},
   "outputs": [
    {
     "name": "stdout",
     "output_type": "stream",
     "text": [
      "Producing: {'ride_id': 'RIDE-10479', 'user_id': 'USER-8661', 'driver_id': 'DRIVER-5357', 'city': 'Cairo', 'pickup_time': 1751504638705, 'fare_amount': 81.89, 'payment_method': 'credit_card', 'status': 'completed'}\n"
     ]
    },
    {
     "name": "stderr",
     "output_type": "stream",
     "text": [
      "/var/folders/8b/jm3yg43s5vg2tznllh0xnvhc0000gn/T/ipykernel_80802/3422556040.py:25: DeprecationWarning: datetime.datetime.utcnow() is deprecated and scheduled for removal in a future version. Use timezone-aware objects to represent datetimes in UTC: datetime.datetime.now(datetime.UTC).\n",
      "  \"pickup_time\": int(datetime.utcnow().timestamp() * 1000),  # epoch millis\n"
     ]
    },
    {
     "name": "stdout",
     "output_type": "stream",
     "text": [
      "Producing: {'ride_id': 'RIDE-82965', 'user_id': 'USER-6734', 'driver_id': 'DRIVER-3653', 'city': 'Amman', 'pickup_time': 1751504640054, 'fare_amount': 286.34, 'payment_method': 'wallet', 'status': 'completed'}\n",
      "Producing: {'ride_id': 'RIDE-56806', 'user_id': 'USER-3404', 'driver_id': 'DRIVER-8454', 'city': 'Riyadh', 'pickup_time': 1751504642026, 'fare_amount': 75.45, 'payment_method': 'credit_card', 'status': 'cancelled'}\n",
      "Producing: {'ride_id': 'RIDE-31002', 'user_id': 'USER-122', 'driver_id': 'DRIVER-1942', 'city': 'Amman', 'pickup_time': 1751504643252, 'fare_amount': 155.1, 'payment_method': 'wallet', 'status': 'completed'}\n",
      "Producing: {'ride_id': 'RIDE-90934', 'user_id': 'USER-1786', 'driver_id': 'DRIVER-442', 'city': 'Cairo', 'pickup_time': 1751504643915, 'fare_amount': 133.26, 'payment_method': 'wallet', 'status': 'completed'}\n",
      "Producing: {'ride_id': 'RIDE-69814', 'user_id': 'USER-4597', 'driver_id': 'DRIVER-8116', 'city': 'Cairo', 'pickup_time': 1751504644728, 'fare_amount': 294.19, 'payment_method': 'wallet', 'status': 'cancelled'}\n",
      "Producing: {'ride_id': 'RIDE-86118', 'user_id': 'USER-4675', 'driver_id': 'DRIVER-1676', 'city': 'Dubai', 'pickup_time': 1751504645468, 'fare_amount': 243.54, 'payment_method': 'credit_card', 'status': 'completed'}\n",
      "Producing: {'ride_id': 'RIDE-89568', 'user_id': 'USER-8137', 'driver_id': 'DRIVER-7748', 'city': 'Amman', 'pickup_time': 1751504646319, 'fare_amount': 189.66, 'payment_method': 'wallet', 'status': 'completed'}\n",
      "Producing: {'ride_id': 'RIDE-80730', 'user_id': 'USER-3481', 'driver_id': 'DRIVER-1383', 'city': 'Cairo', 'pickup_time': 1751504647703, 'fare_amount': 207.33, 'payment_method': 'cash', 'status': 'completed'}\n",
      "Producing: {'ride_id': 'RIDE-9908', 'user_id': 'USER-2094', 'driver_id': 'DRIVER-2772', 'city': 'Riyadh', 'pickup_time': 1751504649637, 'fare_amount': 280.15, 'payment_method': 'cash', 'status': 'completed'}\n",
      "Producing: {'ride_id': 'RIDE-6624', 'user_id': 'USER-158', 'driver_id': 'DRIVER-5683', 'city': 'Cairo', 'pickup_time': 1751504650189, 'fare_amount': 67.2, 'payment_method': 'wallet', 'status': 'created'}\n"
     ]
    },
    {
     "ename": "KeyboardInterrupt",
     "evalue": "",
     "output_type": "error",
     "traceback": [
      "\u001b[0;31m---------------------------------------------------------------------------\u001b[0m",
      "\u001b[0;31mKeyboardInterrupt\u001b[0m                         Traceback (most recent call last)",
      "Cell \u001b[0;32mIn[1], line 35\u001b[0m\n\u001b[1;32m     32\u001b[0m producer\u001b[38;5;241m.\u001b[39msend(\u001b[38;5;124m'\u001b[39m\u001b[38;5;124morders\u001b[39m\u001b[38;5;124m'\u001b[39m, value\u001b[38;5;241m=\u001b[39morder)\n\u001b[1;32m     33\u001b[0m producer\u001b[38;5;241m.\u001b[39mflush()\n\u001b[0;32m---> 35\u001b[0m \u001b[43mtime\u001b[49m\u001b[38;5;241;43m.\u001b[39;49m\u001b[43msleep\u001b[49m\u001b[43m(\u001b[49m\u001b[43mrandom\u001b[49m\u001b[38;5;241;43m.\u001b[39;49m\u001b[43muniform\u001b[49m\u001b[43m(\u001b[49m\u001b[38;5;241;43m0.5\u001b[39;49m\u001b[43m,\u001b[49m\u001b[43m \u001b[49m\u001b[38;5;241;43m2.0\u001b[39;49m\u001b[43m)\u001b[49m\u001b[43m)\u001b[49m  \u001b[38;5;66;03m# Random delay between messages\u001b[39;00m\n",
      "\u001b[0;31mKeyboardInterrupt\u001b[0m: "
     ]
    }
   ],
   "source": [
    "from kafka import KafkaProducer\n",
    "from faker import Faker\n",
    "import json\n",
    "import random\n",
    "import time\n",
    "from datetime import datetime\n",
    "\n",
    "fake = Faker()\n",
    "\n",
    "producer = KafkaProducer(\n",
    "    bootstrap_servers=['localhost:9092'],\n",
    "    value_serializer=lambda v: json.dumps(v).encode('utf-8')\n",
    ")\n",
    "\n",
    "cities = ['Cairo', 'Dubai', 'Riyadh', 'Amman', 'Beirut']\n",
    "payment_methods = ['cash', 'credit_card', 'wallet']\n",
    "statuses = ['created', 'completed', 'cancelled']\n",
    "\n",
    "while True:\n",
    "    order = {\n",
    "        \"ride_id\": f\"RIDE-{fake.random_number(digits=5)}\",\n",
    "        \"user_id\": f\"USER-{fake.random_number(digits=4)}\",\n",
    "        \"driver_id\": f\"DRIVER-{fake.random_number(digits=4)}\",\n",
    "        \"city\": random.choice(cities),\n",
    "        \"pickup_time\": int(datetime.utcnow().timestamp() * 1000), \n",
    "        \"fare_amount\": round(random.uniform(20.0, 300.0), 2),\n",
    "        \"payment_method\": random.choice(payment_methods),\n",
    "        \"status\": random.choice(statuses)\n",
    "    }\n",
    "    \n",
    "    print(f\"Producing: {order}\")\n",
    "    producer.send('orders', value=order)\n",
    "    producer.flush()\n",
    "\n",
    "    time.sleep(random.uniform(0.5, 2.0)) "
   ]
  }
 ],
 "metadata": {
  "kernelspec": {
   "display_name": "Python 3",
   "language": "python",
   "name": "python3"
  },
  "language_info": {
   "codemirror_mode": {
    "name": "ipython",
    "version": 3
   },
   "file_extension": ".py",
   "mimetype": "text/x-python",
   "name": "python",
   "nbconvert_exporter": "python",
   "pygments_lexer": "ipython3",
   "version": "3.12.3"
  }
 },
 "nbformat": 4,
 "nbformat_minor": 2
}
