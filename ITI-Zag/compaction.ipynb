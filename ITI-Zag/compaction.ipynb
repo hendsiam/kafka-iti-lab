{
 "cells": [
  {
   "cell_type": "code",
   "execution_count": null,
   "id": "059b6157",
   "metadata": {},
   "outputs": [],
   "source": [
    "from kafka import KafkaProducer\n",
    "import time\n",
    "import json\n",
    "\n",
    "producer = KafkaProducer(\n",
    "    bootstrap_servers='localhost:9092',\n",
    "    key_serializer=lambda k: k.encode(),\n",
    "    value_serializer=lambda v: v.encode()\n",
    ")\n",
    "\n",
    "events = [\n",
    "    ('user1', 'login'),\n",
    "    ('user2', 'login'),\n",
    "    ('user1', 'update'),\n",
    "    ('user2', 'logout'),\n",
    "    ('user3', 'login'),\n",
    "    ('user2', 'update'),\n",
    "    ('user1', 'logout'),\n",
    "]\n",
    "\n",
    "for k, v in events:\n",
    "    producer.send('compact-demo-x', key=k, value=v)\n",
    "    time.sleep(0.1)\n",
    "\n",
    "producer.flush()"
   ]
  }
 ],
 "metadata": {
  "kernelspec": {
   "display_name": "Python 3",
   "language": "python",
   "name": "python3"
  },
  "language_info": {
   "codemirror_mode": {
    "name": "ipython",
    "version": 3
   },
   "file_extension": ".py",
   "mimetype": "text/x-python",
   "name": "python",
   "nbconvert_exporter": "python",
   "pygments_lexer": "ipython3",
   "version": "3.12.3"
  }
 },
 "nbformat": 4,
 "nbformat_minor": 5
}
